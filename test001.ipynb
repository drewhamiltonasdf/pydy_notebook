# this example comes from https://docs.sympy.org/latest/modules/physics/mechanics/examples/multi_degree_freedom_holonomic_system.html

from sympy import zeros, symbols
from sympy.physics.mechanics import Body, PinJoint, PrismaticJoint, JointsMethod, inertia
from sympy.physics.mechanics import dynamicsymbols

q1, q2, q3, u1, u2, u3 = dynamicsymbols('q1, q2, q3, u1, u2, u3')
l, k, c, g, kT = symbols('l, k, c, g, kT')
ma, mb, mc, IBzz= symbols('ma, mb, mc, IBzz')